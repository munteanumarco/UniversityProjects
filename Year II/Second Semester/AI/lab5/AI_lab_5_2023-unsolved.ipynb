{
 "cells": [
  {
   "cell_type": "markdown",
   "id": "b8210b19",
   "metadata": {},
   "source": [
    "## A.I. Assignment 5\n",
    "\n",
    "## Learning Goals\n",
    "\n",
    "By the end of this lab, you should be able to:\n",
    "* Get more familiar with tensors in pytorch \n",
    "* Create a simple multilayer perceptron model with pytorch\n",
    "* Visualise the parameters\n",
    "\n",
    "\n",
    "### Task\n",
    "\n",
    "Build a fully connected feed forward network that adds two bits. Determine the a propper achitecture for this network (what database you use for this problem? how many layers? how many neurons on each layer? what is the activation function? what is the loss function? etc)\n",
    "\n",
    "Create at least 3 such networks and compare their performance (how accurate they are?, how farst they are trained to get at 1 accuracy?)\n",
    "\n",
    "Display for the best one the weights for each layer.\n"
   ]
  },
  {
   "cell_type": "code",
   "execution_count": 2,
   "id": "e3614e5f",
   "metadata": {},
   "outputs": [],
   "source": [
    "import torch\n",
    "import torch.nn as nn\n",
    "from collections import OrderedDict\n"
   ]
  },
  {
   "cell_type": "code",
   "execution_count": 12,
   "id": "c1a7518b",
   "metadata": {},
   "outputs": [
    {
     "name": "stdout",
     "output_type": "stream",
     "text": [
      "Epoch [1000/3000], Loss: 0.1662\n",
      "Epoch [2000/3000], Loss: 0.0931\n",
      "Epoch [3000/3000], Loss: 0.0212\n",
      "Model Sequential(\n",
      "  (0): Linear(in_features=2, out_features=3, bias=True)\n",
      "  (1): Sigmoid()\n",
      "  (2): Linear(in_features=3, out_features=2, bias=True)\n",
      "  (3): Sigmoid()\n",
      ") Validation Accuracy: 100.00%\n"
     ]
    }
   ],
   "source": [
    "model1 = nn.Sequential(nn.Linear(2,3), nn.Sigmoid(), nn.Linear(3, 2), nn.Sigmoid())\n",
    "\n",
    "\n",
    "data_in = torch.tensor([[0.,0.], [0., 1.], [1., 0.], [1., 1.]]).float()\n",
    "\n",
    "data_target = torch.tensor([[0.,0.], [0., 1.], [0., 1.], [1., 0.]]).float()\n",
    "\n",
    "criterion = nn.MSELoss()\n",
    "optimizer = torch.optim.SGD(model1.parameters(), lr=0.4)\n",
    "\n",
    "num_epochs=3000\n",
    "for epoch in range(num_epochs):\n",
    "    optimizer.zero_grad()\n",
    "\n",
    "    data_out = model1(data_in)\n",
    "    loss = criterion(data_out, data_target)\n",
    "\n",
    "    loss.backward()\n",
    "    optimizer.step()\n",
    "\n",
    "    if(epoch+1) % 1000 == 0:\n",
    "        print(f\"Epoch [{epoch+1}/{num_epochs}], Loss: {loss.item():.4f}\")\n",
    "\n",
    "\n",
    "with torch.no_grad():\n",
    "    correct = 0\n",
    "    total = 0\n",
    "\n",
    "    data_out = model1(data_in)\n",
    "    predicted = torch.where(data_out < 0.5, 0., 1.)\n",
    "\n",
    "    total += data_target.size(0)\n",
    "    correct += torch.where((predicted == data_target).sum(1) == data_target.size(1), 1, 0).sum()\n",
    "\n",
    "    accuracy = 100 * correct / total\n",
    "    print(f\"Model {model1} Validation Accuracy: {accuracy:.2f}%\")\n",
    "\n",
    "#print(list(model.state_dict().values()))"
   ]
  },
  {
   "cell_type": "code",
   "execution_count": 9,
   "id": "6ed2f2a5",
   "metadata": {},
   "outputs": [
    {
     "name": "stdout",
     "output_type": "stream",
     "text": [
      "Epoch [100/1000], Loss: 0.0335\n",
      "Epoch [200/1000], Loss: 0.0000\n",
      "Epoch [300/1000], Loss: 0.0000\n",
      "Epoch [400/1000], Loss: 0.0000\n",
      "Epoch [500/1000], Loss: 0.0000\n",
      "Epoch [600/1000], Loss: 0.0000\n",
      "Epoch [700/1000], Loss: 0.0000\n",
      "Epoch [800/1000], Loss: 0.0000\n",
      "Epoch [900/1000], Loss: 0.0000\n",
      "Epoch [1000/1000], Loss: 0.0000\n",
      "Model Sequential(\n",
      "  (0): Linear(in_features=2, out_features=10, bias=True)\n",
      "  (1): Tanh()\n",
      "  (2): Linear(in_features=10, out_features=10, bias=True)\n",
      "  (3): Tanh()\n",
      "  (4): Linear(in_features=10, out_features=2, bias=True)\n",
      ") Validation Accuracy: 100.00%\n"
     ]
    }
   ],
   "source": [
    "model2 = nn.Sequential(nn.Linear(2,10), nn.Tanh(), nn.Linear(10,10), nn.Tanh(), nn.Linear(10, 2))\n",
    "\n",
    "\n",
    "data_in = torch.tensor([[0.,0.], [0., 1.], [1., 0.], [1., 1.]]).float()\n",
    "\n",
    "data_target = torch.tensor([[0.,0.], [0., 1.], [0., 1.], [1., 0.]]).float()\n",
    "\n",
    "criterion = nn.MSELoss()\n",
    "optimizer = torch.optim.SGD(model2.parameters(), lr=0.3)\n",
    "\n",
    "num_epochs=1000\n",
    "for epoch in range(num_epochs):\n",
    "    optimizer.zero_grad()\n",
    "\n",
    "    data_out = model2(data_in)\n",
    "    loss = criterion(data_out, data_target)\n",
    "\n",
    "    loss.backward()\n",
    "    optimizer.step()\n",
    "\n",
    "    if(epoch+1) % 100 == 0:\n",
    "        print(f\"Epoch [{epoch+1}/{num_epochs}], Loss: {loss.item():.4f}\")\n",
    "\n",
    "\n",
    "with torch.no_grad():\n",
    "    correct = 0\n",
    "    total = 0\n",
    "\n",
    "    data_out = model2(data_in)\n",
    "    predicted = torch.where(data_out < 0.5, 0., 1.)\n",
    "\n",
    "    total += data_target.size(0)\n",
    "    correct += torch.where((predicted == data_target).sum(1) == data_target.size(1), 1, 0).sum()\n",
    "\n",
    "    accuracy = 100 * correct / total\n",
    "    print(f\"Model {model2} Validation Accuracy: {accuracy:.2f}%\")\n",
    "\n",
    "#print(list(model.state_dict().values()))"
   ]
  },
  {
   "cell_type": "code",
   "execution_count": 11,
   "id": "8214a0b4",
   "metadata": {},
   "outputs": [
    {
     "name": "stdout",
     "output_type": "stream",
     "text": [
      "Epoch [1000/1000], Loss: 0.0000\n",
      "Model Sequential(\n",
      "  (0): Linear(in_features=2, out_features=10, bias=True)\n",
      "  (1): Tanh()\n",
      "  (2): Linear(in_features=10, out_features=10, bias=True)\n",
      "  (3): Tanh()\n",
      "  (4): Linear(in_features=10, out_features=2, bias=True)\n",
      ") Validation Accuracy: 100.00%\n"
     ]
    }
   ],
   "source": [
    "model3 = nn.Sequential(nn.Linear(2,10), nn.Tanh(), nn.Linear(10,10), nn.Tanh(), nn.Linear(10, 2))\n",
    "\n",
    "\n",
    "data_in = torch.tensor([[0.,0.], [0., 1.], [1., 0.], [1., 1.]]).float()\n",
    "\n",
    "data_target = torch.tensor([[0.,0.], [0., 1.], [0., 1.], [1., 0.]]).float()\n",
    "\n",
    "criterion = nn.MSELoss()\n",
    "optimizer = torch.optim.SGD(model3.parameters(), lr=0.1)\n",
    "\n",
    "num_epochs=1000\n",
    "for epoch in range(num_epochs):\n",
    "    optimizer.zero_grad()\n",
    "\n",
    "    data_out = model3(data_in)\n",
    "    loss = criterion(data_out, data_target)\n",
    "\n",
    "    loss.backward()\n",
    "    optimizer.step()\n",
    "\n",
    "    if(epoch+1) % 1000 == 0:\n",
    "        print(f\"Epoch [{epoch+1}/{num_epochs}], Loss: {loss.item():.4f}\")\n",
    "\n",
    "\n",
    "with torch.no_grad():\n",
    "    correct = 0\n",
    "    total = 0\n",
    "\n",
    "    data_out = model3(data_in)\n",
    "    predicted = torch.where(data_out < 0.5, 0., 1.)\n",
    "\n",
    "    total += data_target.size(0)\n",
    "    correct += torch.where((predicted == data_target).sum(1) == data_target.size(1), 1, 0).sum()\n",
    "\n",
    "    accuracy = 100 * correct / total\n",
    "    print(f\"Model {model3} Validation Accuracy: {accuracy:.2f}%\")\n",
    "\n",
    "#print(list(model.state_dict().values()))"
   ]
  },
  {
   "cell_type": "code",
   "execution_count": 4,
   "id": "d8cca20a",
   "metadata": {},
   "outputs": [],
   "source": []
  }
 ],
 "metadata": {
  "kernelspec": {
   "display_name": "Python 3 (ipykernel)",
   "language": "python",
   "name": "python3"
  },
  "language_info": {
   "codemirror_mode": {
    "name": "ipython",
    "version": 3
   },
   "file_extension": ".py",
   "mimetype": "text/x-python",
   "name": "python",
   "nbconvert_exporter": "python",
   "pygments_lexer": "ipython3",
   "version": "3.9.13"
  }
 },
 "nbformat": 4,
 "nbformat_minor": 5
}
